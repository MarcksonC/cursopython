{
  "nbformat": 4,
  "nbformat_minor": 0,
  "metadata": {
    "colab": {
      "provenance": []
    },
    "kernelspec": {
      "name": "python3",
      "display_name": "Python 3"
    },
    "language_info": {
      "name": "python"
    }
  },
  "cells": [
    {
      "cell_type": "code",
      "execution_count": 48,
      "metadata": {
        "colab": {
          "base_uri": "https://localhost:8080/"
        },
        "id": "sST8HjETWb1L",
        "outputId": "810a21db-3279-41c5-d5b3-3d87b6ed2786"
      },
      "outputs": [
        {
          "output_type": "stream",
          "name": "stdout",
          "text": [
            "Olá, seja bem-vindo(a)!\n",
            "Digite o primeiro número: 5\n",
            "Digite o segundo número: 5\n",
            "Digite a operação (+, -, *, /): \n",
            "Resultado: Operação Inválida!\n",
            "Deseja continuar? (s/n)s\n",
            "Digite o primeiro número: 5\n",
            "Digite o segundo número: 5\n",
            "Digite a operação (+, -, *, /): /\n",
            "Resultado: 1.0\n",
            "Deseja continuar? (s/n)n\n",
            "Até breve!\n"
          ]
        }
      ],
      "source": [
        "print(\"Olá, seja bem-vindo(a)!\")\n",
        "\n",
        "while True:\n",
        "  num1 = int(input(\"Digite o primeiro número: \"))\n",
        "  num2 = int(input(\"Digite o segundo número: \"))\n",
        "  operacao = input(\"Digite a operação (+, -, *, /): \")\n",
        "\n",
        "  if operacao == \"+\":\n",
        "    resultado = num1 + num2\n",
        "  elif operacao ==  \"-\":\n",
        "    resultado = num1 - num2\n",
        "  elif operacao == \"*\":\n",
        "    resultado = num1 * num2\n",
        "  elif operacao == \"/\":\n",
        " /   resultado = num1 / num2\n",
        "  else:\n",
        "    resultado = \"Operação Inválida!\"\n",
        "\n",
        "\n",
        "  print(\"Resultado:\", resultado)\n",
        "\n",
        "  continuar = input(\"Deseja continuar? (s/n)\")\n",
        "  if continuar.lower() != \"s\":\n",
        "    print(\"Até breve!\")\n",
        "    break\n",
        "\n",
        "\n"
      ]
    },
    {
      "cell_type": "code",
      "source": [],
      "metadata": {
        "id": "01ElrYsoWgSI"
      },
      "execution_count": 47,
      "outputs": []
    }
  ]
}